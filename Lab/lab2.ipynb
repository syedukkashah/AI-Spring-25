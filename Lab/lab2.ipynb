{
  "cells": [
    {
      "cell_type": "markdown",
      "metadata": {
        "id": "n6Vx4gX1DEGr"
      },
      "source": [
        "### Task 1\n"
      ]
    },
    {
      "cell_type": "code",
      "execution_count": 11,
      "metadata": {
        "colab": {
          "base_uri": "https://localhost:8080/"
        },
        "id": "D9m3QS_bDt7D",
        "outputId": "0c1b2850-83b6-4482-fb60-b7330ad3c670"
      },
      "outputs": [
        {
          "name": "stdout",
          "output_type": "stream",
          "text": [
            "Scanning...\n",
            "Warning: Component A is vulnerable.\n",
            "Warning: Component B is vulnerable.\n",
            "Success: Component C is safe.\n",
            "Success: Component D is safe.\n",
            "Success: Component E is safe.\n",
            "Warning: Component F is vulnerable.\n",
            "Success: Component G is safe.\n",
            "Warning: Component H is vulnerable.\n",
            "Warning: Component I is vulnerable.\n",
            "Patching vulnerabilities...\n",
            "Success: Component A has been patched and is now marked as safe\n",
            "Success: Component B has been patched and is now marked as safe\n",
            "Success: Component F has been patched and is now marked as safe\n",
            "Success: Component H has been patched and is now marked as safe\n",
            "Success: Component I has been patched and is now marked as safe\n",
            "Final system state:\n",
            "{'A': 'safe', 'B': 'safe', 'C': 'safe', 'D': 'safe', 'E': 'safe', 'F': 'safe', 'G': 'safe', 'H': 'safe', 'I': 'safe'}\n"
          ]
        }
      ],
      "source": [
        "import random\n",
        "\n",
        "class Environment:\n",
        "\n",
        "  def __init__(self):\n",
        "    self.components = [\"A\", \"B\", \"C\", \"D\", \"E\", \"F\", \"G\", \"H\", \"I\"]\n",
        "    self.state = {component: random.choice([\"safe\", \"vulnerable\"]) for component in self.components}\n",
        "\n",
        "\n",
        "  def get_state(self):\n",
        "    return self.state\n",
        "\n",
        "\n",
        "class Agent:\n",
        "\n",
        "  def __init__(self):\n",
        "    self.vulnerable_components = []\n",
        "\n",
        "  def scan(self,  environment):\n",
        "    state = environment.get_state()\n",
        "\n",
        "    for component, status in state.items():\n",
        "      if status == \"vulnerable\":\n",
        "        self.vulnerable_components.append(component)\n",
        "        print(f\"Warning: Component {component} is vulnerable.\")\n",
        "      elif status == 'safe':\n",
        "        print(f\"Success: Component {component} is safe.\")\n",
        "\n",
        "  def patching_vulnerabilities(self, environment):\n",
        "    state = environment.get_state()\n",
        "    for component in self.vulnerable_components:\n",
        "      state[component] = \"safe\"\n",
        "      print(f\"Success: Component {component} has been patched and is now marked as safe\")\n",
        "    environment.state = state\n",
        "\n",
        "  def get_vulnerable_components(self):\n",
        "    return self.vulnerable_components\n",
        "\n",
        "\n",
        "def run_agent(agent, environment):\n",
        "  print(\"Scanning...\")\n",
        "  agent.scan(environment)\n",
        "  print(\"Patching vulnerabilities...\")\n",
        "  agent.patching_vulnerabilities(environment)\n",
        "  print(\"Final system state:\")\n",
        "  print(environment.get_state())\n",
        "\n",
        "\n",
        "agent = Agent()\n",
        "environment = Environment()\n",
        "\n",
        "run_agent(agent, environment)"
      ]
    },
    {
      "cell_type": "markdown",
      "metadata": {
        "id": "6UO7oE5Nswg3"
      },
      "source": [
        "### Task 2"
      ]
    },
    {
      "cell_type": "code",
      "execution_count": 12,
      "metadata": {},
      "outputs": [],
      "source": [
        "import random\n",
        "class Environment:\n",
        "    def __init__(self):\n",
        "        self.servers = [i for i in range (1,6)]\n",
        "        self.states = {server : random.choice(['Underloaded', 'Balanced', 'Overloaded']) for server in self.servers}\n",
        "        \n",
        "    \n",
        "    def getServerStates(self):\n",
        "        return self.states\n",
        "    \n",
        "class Agent:\n",
        "    def __init__ (self):\n",
        "        self.overloadedTasks = []\n",
        "        self.underloadedTasks = []\n",
        "    \n",
        "    def balanceStates(self, states):\n",
        "        self.overloadedTasks = [server for server in states if states[server] == 'Overloaded']\n",
        "        self.underloadedTasks = [server for server in states if states[server] == 'Underloaded']\n",
        "        \n",
        "        if len(self.overloadedTasks) > 0 and len(self.underloadedTasks) > 0:\n",
        "            print(\"Balancing Load...\")\n",
        "    \n",
        "            while self.overloadedTasks and self.underloadedTasks:  # Continue until one list is empty\n",
        "                overloaded = self.overloadedTasks.pop(0)\n",
        "                underloaded = self.underloadedTasks.pop(0)\n",
        "                \n",
        "                print(f\"Server {overloaded} is overloaded\")\n",
        "                print(f\"Server {underloaded} is underloaded\")\n",
        "                print(f\"Transferring load from server {overloaded} to server {underloaded}\")\n",
        "\n",
        "                states[overloaded] = 'Balanced'\n",
        "                states[underloaded] = 'Balanced'\n",
        "        else:\n",
        "            print(\"Load is balanced\")\n",
        "\n",
        "        \n",
        "    def scan(self, environment):\n",
        "        print(\"Scanning environment...\")\n",
        "        self.balanceStates(environment.getServerStates())\n",
        "                \n",
        "        "
      ]
    },
    {
      "cell_type": "code",
      "execution_count": 13,
      "metadata": {},
      "outputs": [
        {
          "data": {
            "text/plain": [
              "{1: 'Balanced',\n",
              " 2: 'Balanced',\n",
              " 3: 'Overloaded',\n",
              " 4: 'Overloaded',\n",
              " 5: 'Underloaded'}"
            ]
          },
          "execution_count": 13,
          "metadata": {},
          "output_type": "execute_result"
        }
      ],
      "source": [
        "environment = Environment()\n",
        "environment.getServerStates()"
      ]
    },
    {
      "cell_type": "code",
      "execution_count": 14,
      "metadata": {},
      "outputs": [
        {
          "name": "stdout",
          "output_type": "stream",
          "text": [
            "Scanning environment...\n",
            "Balancing Load...\n",
            "Server 3 is overloaded\n",
            "Server 5 is underloaded\n",
            "Transferring load from server 3 to server 5\n"
          ]
        }
      ],
      "source": [
        "load_balancer = Agent()\n",
        "load_balancer.scan(environment)"
      ]
    },
    {
      "cell_type": "code",
      "execution_count": 15,
      "metadata": {},
      "outputs": [
        {
          "data": {
            "text/plain": [
              "{1: 'Balanced', 2: 'Balanced', 3: 'Balanced', 4: 'Overloaded', 5: 'Balanced'}"
            ]
          },
          "execution_count": 15,
          "metadata": {},
          "output_type": "execute_result"
        }
      ],
      "source": [
        "environment.getServerStates()"
      ]
    },
    {
      "cell_type": "markdown",
      "metadata": {
        "id": "LadjNFlZNvNl"
      },
      "source": [
        "### Task 3"
      ]
    },
    {
      "cell_type": "code",
      "execution_count": 16,
      "metadata": {},
      "outputs": [],
      "source": [
        "import random\n",
        "class Environment:\n",
        "    def __init__(self):\n",
        "        self.backup_tasks = random.choices(['Completed', 'Failed'], k = 5)\n",
        "        \n",
        "    def getTaskStatuses(self):\n",
        "        return self.backup_tasks    "
      ]
    },
    {
      "cell_type": "code",
      "execution_count": 17,
      "metadata": {},
      "outputs": [],
      "source": [
        "class BackupManagementAgent:\n",
        "    def __init__(self):\n",
        "        pass\n",
        "    \n",
        "    def scan(self, environment):\n",
        "        print(\"Scanning & Retrying potential failed backups...\")\n",
        "        environment.backup_tasks = ['Completed' if status == 'Failed' else status for status in environment.backup_tasks]        "
      ]
    },
    {
      "cell_type": "code",
      "execution_count": 18,
      "metadata": {},
      "outputs": [
        {
          "data": {
            "text/plain": [
              "['Failed', 'Completed', 'Failed', 'Failed', 'Completed']"
            ]
          },
          "execution_count": 18,
          "metadata": {},
          "output_type": "execute_result"
        }
      ],
      "source": [
        "environment = Environment()\n",
        "environment.getTaskStatuses()"
      ]
    },
    {
      "cell_type": "code",
      "execution_count": 19,
      "metadata": {},
      "outputs": [
        {
          "name": "stdout",
          "output_type": "stream",
          "text": [
            "Scanning & Retrying potential failed backups...\n"
          ]
        }
      ],
      "source": [
        "agent = BackupManagementAgent()\n",
        "agent.scan(environment)"
      ]
    },
    {
      "cell_type": "code",
      "execution_count": 20,
      "metadata": {},
      "outputs": [
        {
          "data": {
            "text/plain": [
              "['Completed', 'Completed', 'Completed', 'Completed', 'Completed']"
            ]
          },
          "execution_count": 20,
          "metadata": {},
          "output_type": "execute_result"
        }
      ],
      "source": [
        "environment.getTaskStatuses()"
      ]
    },
    {
      "cell_type": "markdown",
      "metadata": {
        "id": "P9X9PLunbPgG"
      },
      "source": [
        "### Task 4"
      ]
    },
    {
      "cell_type": "code",
      "execution_count": 21,
      "metadata": {},
      "outputs": [],
      "source": [
        "import random\n",
        "class Environment:\n",
        "    def __init__(self):\n",
        "        self.components = ['A', 'B', 'C', 'D', 'E', 'F', 'G', 'H', 'I']\n",
        "        self.compState = {components: random.choice(['Safe', 'Low Risk', 'Vulnerable', 'High Risk Vulnerable']) for components in self.components}\n",
        "        \n",
        "    def getState(self):\n",
        "        return self.compState    "
      ]
    },
    {
      "cell_type": "code",
      "execution_count": 22,
      "metadata": {},
      "outputs": [],
      "source": [
        "class Agent:\n",
        "    def __init__(self):\n",
        "        self.premium = []\n",
        "        self.purchased = False\n",
        "        \n",
        "    def getPremiumPatches(self):\n",
        "        return self.premium\n",
        "        \n",
        "    def scan(self, environment):\n",
        "        print(\"Scanning Components...\")\n",
        "        [print(f\"✅ {component} is Safe!\") if state == 'Safe' else print(f\"⚠️ WARNING: {component} is Vulnerable!\") for component, state in environment.compState.items()]\n",
        "        \n",
        "    def patch(self, environment):\n",
        "        print(\"Patching Components...\")\n",
        "        for component, state in environment.compState.items():\n",
        "            if state in {'Vulnerable', 'High Risk Vulnerable'} and not self.purchased:\n",
        "                print(f\"Cannot patch {component} as the premium patch is not purchased.\")\n",
        "            elif state in {'Vulnerable', 'High Risk Vulnerable', 'Low Risk'}:\n",
        "                print(f\"Component {component} patched!\")\n",
        "                environment.compState[component] = 'Safe'\n",
        "\n",
        "    \n",
        "    def purchasePremium(self):\n",
        "        print(\"Premium purchased\")\n",
        "        self.purchased = True\n",
        "    \n",
        "    \n",
        "    "
      ]
    },
    {
      "cell_type": "code",
      "execution_count": 23,
      "metadata": {},
      "outputs": [],
      "source": [
        "env = Environment()\n",
        "agent = Agent()"
      ]
    },
    {
      "cell_type": "code",
      "execution_count": 24,
      "metadata": {},
      "outputs": [
        {
          "name": "stdout",
          "output_type": "stream",
          "text": [
            "Initial State: \n"
          ]
        },
        {
          "data": {
            "text/plain": [
              "{'A': 'Low Risk',\n",
              " 'B': 'Vulnerable',\n",
              " 'C': 'High Risk Vulnerable',\n",
              " 'D': 'Vulnerable',\n",
              " 'E': 'Vulnerable',\n",
              " 'F': 'High Risk Vulnerable',\n",
              " 'G': 'Low Risk',\n",
              " 'H': 'Vulnerable',\n",
              " 'I': 'Vulnerable'}"
            ]
          },
          "execution_count": 24,
          "metadata": {},
          "output_type": "execute_result"
        }
      ],
      "source": [
        "print(\"Initial State: \")\n",
        "env.getState()"
      ]
    },
    {
      "cell_type": "code",
      "execution_count": 25,
      "metadata": {},
      "outputs": [
        {
          "name": "stdout",
          "output_type": "stream",
          "text": [
            "Scanning Components...\n",
            "⚠️ WARNING: A is Vulnerable!\n",
            "⚠️ WARNING: B is Vulnerable!\n",
            "⚠️ WARNING: C is Vulnerable!\n",
            "⚠️ WARNING: D is Vulnerable!\n",
            "⚠️ WARNING: E is Vulnerable!\n",
            "⚠️ WARNING: F is Vulnerable!\n",
            "⚠️ WARNING: G is Vulnerable!\n",
            "⚠️ WARNING: H is Vulnerable!\n",
            "⚠️ WARNING: I is Vulnerable!\n"
          ]
        }
      ],
      "source": [
        "agent.scan(env)"
      ]
    },
    {
      "cell_type": "code",
      "execution_count": 26,
      "metadata": {},
      "outputs": [
        {
          "name": "stdout",
          "output_type": "stream",
          "text": [
            "Patching Components...\n",
            "Component A patched!\n",
            "Cannot patch B as the premium patch is not purchased.\n",
            "Cannot patch C as the premium patch is not purchased.\n",
            "Cannot patch D as the premium patch is not purchased.\n",
            "Cannot patch E as the premium patch is not purchased.\n",
            "Cannot patch F as the premium patch is not purchased.\n",
            "Component G patched!\n",
            "Cannot patch H as the premium patch is not purchased.\n",
            "Cannot patch I as the premium patch is not purchased.\n"
          ]
        }
      ],
      "source": [
        "agent.patch(env)"
      ]
    },
    {
      "cell_type": "code",
      "execution_count": 27,
      "metadata": {},
      "outputs": [
        {
          "data": {
            "text/plain": [
              "{'A': 'Safe',\n",
              " 'B': 'Vulnerable',\n",
              " 'C': 'High Risk Vulnerable',\n",
              " 'D': 'Vulnerable',\n",
              " 'E': 'Vulnerable',\n",
              " 'F': 'High Risk Vulnerable',\n",
              " 'G': 'Safe',\n",
              " 'H': 'Vulnerable',\n",
              " 'I': 'Vulnerable'}"
            ]
          },
          "execution_count": 27,
          "metadata": {},
          "output_type": "execute_result"
        }
      ],
      "source": [
        "env.getState()"
      ]
    },
    {
      "cell_type": "code",
      "execution_count": 28,
      "metadata": {},
      "outputs": [
        {
          "name": "stdout",
          "output_type": "stream",
          "text": [
            "Premium purchased\n"
          ]
        }
      ],
      "source": [
        "agent.purchasePremium()"
      ]
    },
    {
      "cell_type": "code",
      "execution_count": 29,
      "metadata": {},
      "outputs": [
        {
          "name": "stdout",
          "output_type": "stream",
          "text": [
            "Patching Components...\n",
            "Component B patched!\n",
            "Component C patched!\n",
            "Component D patched!\n",
            "Component E patched!\n",
            "Component F patched!\n",
            "Component H patched!\n",
            "Component I patched!\n"
          ]
        }
      ],
      "source": [
        "agent.patch(env)"
      ]
    },
    {
      "cell_type": "code",
      "execution_count": 30,
      "metadata": {},
      "outputs": [
        {
          "data": {
            "text/plain": [
              "{'A': 'Safe',\n",
              " 'B': 'Safe',\n",
              " 'C': 'Safe',\n",
              " 'D': 'Safe',\n",
              " 'E': 'Safe',\n",
              " 'F': 'Safe',\n",
              " 'G': 'Safe',\n",
              " 'H': 'Safe',\n",
              " 'I': 'Safe'}"
            ]
          },
          "execution_count": 30,
          "metadata": {},
          "output_type": "execute_result"
        }
      ],
      "source": [
        "env.getState()"
      ]
    },
    {
      "cell_type": "markdown",
      "metadata": {},
      "source": [
        "### Task 5"
      ]
    },
    {
      "cell_type": "code",
      "execution_count": 78,
      "metadata": {},
      "outputs": [],
      "source": [
        "import random\n",
        "class Environment:\n",
        "    def __init__(self):\n",
        "        self.corridors = ['Corridor 1', 'Corridor 2']\n",
        "        self.patient_rooms = ['Room 1', 'Room 2', 'Room 3']\n",
        "        self.nurse_stations = ['Station 1', 'Station 2']\n",
        "        self.storage = 'Medicine Storage'\n",
        "        self.tasks = [\n",
        "            {'location': 'Room 1', 'medicine': 'Panadol', 'Patient ID': '1001', 'Delivered':False}, \n",
        "            {'location': 'Room 2', 'medicine': 'Melatonin', 'Patient ID': '1002', 'Delivered':False},\n",
        "            {'location': 'Room 3', 'medicine': 'Multivitamin', 'Patient ID': '1003', 'Delivered':False} \n",
        "            ]\n",
        "        \n",
        "   \n",
        "    def display_tasks(self):\n",
        "        print(\"\\nTask Schedule:\")\n",
        "        print(\"-\" * 50)\n",
        "        for task in self.tasks:\n",
        "            status = \"✅ Delivered\" if task['Delivered'] else \"❌ Pending\"\n",
        "            print(f\"📍 Location: {task['location']}\")\n",
        "            print(f\"💊 Medicine: {task['medicine']}\")\n",
        "            print(f\"🆔 Patient ID: {task['Patient ID']}\")\n",
        "            print(f\"📦 Status: {status}\")\n",
        "            print(\"-\" * 50)"
      ]
    },
    {
      "cell_type": "code",
      "execution_count": 83,
      "metadata": {},
      "outputs": [],
      "source": [
        "class Agent:\n",
        "    def __init__(self):\n",
        "        self.position  = 'Docking Station'\n",
        "\n",
        "    def move(self, dest):\n",
        "        if self.position != dest:\n",
        "            self.position = dest\n",
        "            print(f\"Agent moved to {dest}\")\n",
        "        else:\n",
        "            print(f\"Agent is already at {dest}\")\n",
        "    \n",
        "    def scan(self, expected_ID):\n",
        "        print(\"Scanning ID...\")\n",
        "        success = random.random() < 0.9\n",
        "        scanned_ID = expected_ID if success else \"UNKNOWN\"\n",
        "        print(f'Scanned ID: {scanned_ID}, Expected ID: {expected_ID}')\n",
        "        return scanned_ID == expected_ID\n",
        "    \n",
        "    def getMedicine(self, medicine, env):\n",
        "        self.move(env.storage)\n",
        "        print(f\"Agent retrieved {medicine} from storage\")\n",
        "    \n",
        "    def deliver_medicine(self, medicine, room):\n",
        "        print(f\"Delivered {medicine} to {room}\")\n",
        "                \n",
        "        \n",
        "    def alertStaff(self):\n",
        "        print(f'Alerting staff! Assistance required at {self.position}')\n",
        "        \n",
        "    def run_agent(self, env):\n",
        "        print(f'Agent is currently at {self.position}')\n",
        "        for task in env.tasks:\n",
        "            if not task['Delivered']:\n",
        "                print(f\"Performing Tasks for Patient with ID({task['Patient ID']})\")\n",
        "                self.getMedicine(task['medicine'], env)\n",
        "                self.move(task['location'])\n",
        "                if not self.scan(task['Patient ID']):\n",
        "                    self.alertStaff()\n",
        "                else:\n",
        "                    self.deliver_medicine(task['medicine'], task['location'])\n",
        "                    task['Delivered'] = True\n",
        "                print('----------------------------------------------------------')\n",
        "        print('Tasks completed ')\n",
        "                    \n",
        "      "
      ]
    },
    {
      "cell_type": "code",
      "execution_count": 84,
      "metadata": {},
      "outputs": [],
      "source": [
        "env = Environment()\n",
        "agent = Agent()\n"
      ]
    },
    {
      "cell_type": "code",
      "execution_count": 80,
      "metadata": {},
      "outputs": [
        {
          "name": "stdout",
          "output_type": "stream",
          "text": [
            "\n",
            "Task Schedule:\n",
            "--------------------------------------------------\n",
            "📍 Location: Room 1\n",
            "💊 Medicine: Panadol\n",
            "🆔 Patient ID: 1001\n",
            "📦 Status: ❌ Pending\n",
            "--------------------------------------------------\n",
            "📍 Location: Room 2\n",
            "💊 Medicine: Melatonin\n",
            "🆔 Patient ID: 1002\n",
            "📦 Status: ❌ Pending\n",
            "--------------------------------------------------\n",
            "📍 Location: Room 3\n",
            "💊 Medicine: Multivitamin\n",
            "🆔 Patient ID: 1003\n",
            "📦 Status: ❌ Pending\n",
            "--------------------------------------------------\n"
          ]
        }
      ],
      "source": [
        "env.display_tasks()"
      ]
    },
    {
      "cell_type": "code",
      "execution_count": 85,
      "metadata": {},
      "outputs": [
        {
          "name": "stdout",
          "output_type": "stream",
          "text": [
            "Agent is currently at Docking Station\n",
            "Performing Tasks for Patient with ID(1001)\n",
            "Agent moved to Medicine Storage\n",
            "Agent retrieved Panadol from storage\n",
            "Agent moved to Room 1\n",
            "Scanning ID...\n",
            "Scanned ID: 1001, Expected ID: 1001\n",
            "Delivered Panadol to Room 1\n",
            "----------------------------------------------------------\n",
            "Performing Tasks for Patient with ID(1002)\n",
            "Agent moved to Medicine Storage\n",
            "Agent retrieved Melatonin from storage\n",
            "Agent moved to Room 2\n",
            "Scanning ID...\n",
            "Scanned ID: 1002, Expected ID: 1002\n",
            "Delivered Melatonin to Room 2\n",
            "----------------------------------------------------------\n",
            "Performing Tasks for Patient with ID(1003)\n",
            "Agent moved to Medicine Storage\n",
            "Agent retrieved Multivitamin from storage\n",
            "Agent moved to Room 3\n",
            "Scanning ID...\n",
            "Scanned ID: 1003, Expected ID: 1003\n",
            "Delivered Multivitamin to Room 3\n",
            "----------------------------------------------------------\n",
            "Tasks completed \n"
          ]
        }
      ],
      "source": [
        "agent.run_agent(env)"
      ]
    },
    {
      "cell_type": "markdown",
      "metadata": {},
      "source": [
        "### Task 6"
      ]
    },
    {
      "cell_type": "code",
      "execution_count": 92,
      "metadata": {},
      "outputs": [],
      "source": [
        "import numpy as np\n",
        "class Environment:\n",
        "    def __init__(self):\n",
        "        self.grid = {\n",
        "        'a': False, 'b': False, 'c': True,   \n",
        "        'd': False, 'e': True,  'f': False,  \n",
        "        'g': False, 'h': False, 'j': True    \n",
        "        }\n",
        "    \n",
        "    def display_grid(self):\n",
        "        layout = ['a', 'b', 'c', 'd', 'e', 'f', 'g', 'h', 'j']\n",
        "        for i in range(0, 9, 3):\n",
        "            row = layout[i:i+3]\n",
        "            print(\" | \".join(\"🔥\" if self.grid[room] else \"✅\" for room in row))  # ✅ Access self.grid\n",
        "            if i < 6:\n",
        "                print(\"-\" * 11)    "
      ]
    },
    {
      "cell_type": "code",
      "execution_count": 100,
      "metadata": {},
      "outputs": [],
      "source": [
        "class Agent:\n",
        "    def __init__(self):\n",
        "        self.path = ['a', 'b', 'c', 'd', 'e', 'f','g', 'h', 'j']\n",
        "        self.curr_pos = self.path[0]\n",
        "    \n",
        "    def extinguish(self, env):\n",
        "        for pos in self.path:\n",
        "            print(f\"Robot moving to {pos}\")\n",
        "            if env.grid[pos]:\n",
        "                print(f\"Extinguishing fire at {pos}\")\n",
        "                env.grid[pos] = False\n",
        "            else:\n",
        "                print(f\"No fire at {pos}\")"
      ]
    },
    {
      "cell_type": "code",
      "execution_count": 101,
      "metadata": {},
      "outputs": [],
      "source": [
        "env = Environment()\n",
        "agent = Agent()"
      ]
    },
    {
      "cell_type": "code",
      "execution_count": 102,
      "metadata": {},
      "outputs": [
        {
          "name": "stdout",
          "output_type": "stream",
          "text": [
            "---------Initial Grid State---------\n",
            "✅ | ✅ | 🔥\n",
            "-----------\n",
            "✅ | 🔥 | ✅\n",
            "-----------\n",
            "✅ | ✅ | 🔥\n",
            "Firefighting Robot Deployed...\n",
            "Robot moving to a\n",
            "No fire at a\n",
            "Robot moving to b\n",
            "No fire at b\n",
            "Robot moving to c\n",
            "Extinguishing fire at c\n",
            "Robot moving to d\n",
            "No fire at d\n",
            "Robot moving to e\n",
            "Extinguishing fire at e\n",
            "Robot moving to f\n",
            "No fire at f\n",
            "Robot moving to g\n",
            "No fire at g\n",
            "Robot moving to h\n",
            "No fire at h\n",
            "Robot moving to j\n",
            "Extinguishing fire at j\n",
            "---------Final Grid State---------\n",
            "✅ | ✅ | ✅\n",
            "-----------\n",
            "✅ | ✅ | ✅\n",
            "-----------\n",
            "✅ | ✅ | ✅\n"
          ]
        }
      ],
      "source": [
        "print(\"---------Initial Grid State---------\")\n",
        "env.display_grid()\n",
        "print(\"Firefighting Robot Deployed...\")\n",
        "agent.extinguish(env)\n",
        "print(\"---------Final Grid State---------\")\n",
        "env.display_grid()"
      ]
    },
    {
      "cell_type": "code",
      "execution_count": null,
      "metadata": {},
      "outputs": [],
      "source": []
    }
  ],
  "metadata": {
    "colab": {
      "provenance": []
    },
    "kernelspec": {
      "display_name": "Python 3",
      "name": "python3"
    },
    "language_info": {
      "codemirror_mode": {
        "name": "ipython",
        "version": 3
      },
      "file_extension": ".py",
      "mimetype": "text/x-python",
      "name": "python",
      "nbconvert_exporter": "python",
      "pygments_lexer": "ipython3",
      "version": "3.12.6"
    }
  },
  "nbformat": 4,
  "nbformat_minor": 0
}
